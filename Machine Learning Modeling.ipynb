{
 "cells": [
  {
   "cell_type": "code",
   "execution_count": 1,
   "id": "cf6b02d6",
   "metadata": {},
   "outputs": [],
   "source": [
    "import numpy as np\n",
    "import matplotlib.pyplot as plt\n",
    "import pandas as pd\n",
    "import regex as re\n",
    "\n",
    "from sklearn.linear_model import LogisticRegression\n",
    "from sklearn.neighbors import KNeighborsClassifier\n",
    "from sklearn.metrics import confusion_matrix\n",
    "from sklearn.linear_model import LinearRegression\n",
    "from sklearn.naive_bayes import BernoulliNB\n",
    "from sklearn.naive_bayes import MultinomialNB\n",
    "from sklearn.naive_bayes import GaussianNB\n",
    "from sklearn.decomposition import PCA"
   ]
  },
  {
   "cell_type": "code",
   "execution_count": 2,
   "id": "b66f164e",
   "metadata": {},
   "outputs": [
    {
     "data": {
      "text/html": [
       "<div>\n",
       "<style scoped>\n",
       "    .dataframe tbody tr th:only-of-type {\n",
       "        vertical-align: middle;\n",
       "    }\n",
       "\n",
       "    .dataframe tbody tr th {\n",
       "        vertical-align: top;\n",
       "    }\n",
       "\n",
       "    .dataframe thead th {\n",
       "        text-align: right;\n",
       "    }\n",
       "</style>\n",
       "<table border=\"1\" class=\"dataframe\">\n",
       "  <thead>\n",
       "    <tr style=\"text-align: right;\">\n",
       "      <th></th>\n",
       "      <th>movie</th>\n",
       "      <th>views</th>\n",
       "      <th>likes</th>\n",
       "      <th>dislikes</th>\n",
       "      <th>comments</th>\n",
       "      <th>budget</th>\n",
       "      <th>overview</th>\n",
       "      <th>runtime</th>\n",
       "      <th>tagline</th>\n",
       "      <th>genre</th>\n",
       "      <th>keyword</th>\n",
       "      <th>language</th>\n",
       "      <th>companies</th>\n",
       "      <th>countries</th>\n",
       "      <th>year</th>\n",
       "      <th>month</th>\n",
       "      <th>homepage_binary</th>\n",
       "      <th>budget_mln</th>\n",
       "    </tr>\n",
       "  </thead>\n",
       "  <tbody>\n",
       "    <tr>\n",
       "      <th>0</th>\n",
       "      <td>Avatar</td>\n",
       "      <td>8611952.0</td>\n",
       "      <td>45703.0</td>\n",
       "      <td>2137.0</td>\n",
       "      <td>7631.0</td>\n",
       "      <td>237000000</td>\n",
       "      <td>In the 22nd century, a paraplegic Marine is di...</td>\n",
       "      <td>162.0</td>\n",
       "      <td>Enter the World of Pandora.</td>\n",
       "      <td>['Action', 'Adventure', 'Fantasy', 'Science Fi...</td>\n",
       "      <td>['culture clash', 'future', 'space war', 'spac...</td>\n",
       "      <td>['English', 'Español']</td>\n",
       "      <td>['Ingenious Film Partners', 'Twentieth Century...</td>\n",
       "      <td>['United States of America', 'United Kingdom']</td>\n",
       "      <td>2009.0</td>\n",
       "      <td>12.0</td>\n",
       "      <td>1</td>\n",
       "      <td>237.0</td>\n",
       "    </tr>\n",
       "    <tr>\n",
       "      <th>1</th>\n",
       "      <td>Pirates of the Caribbean: At World's End</td>\n",
       "      <td>2678687.0</td>\n",
       "      <td>16962.0</td>\n",
       "      <td>302.0</td>\n",
       "      <td>0.0</td>\n",
       "      <td>300000000</td>\n",
       "      <td>Captain Barbossa, long believed to be dead, ha...</td>\n",
       "      <td>169.0</td>\n",
       "      <td>At the end of the world, the adventure begins.</td>\n",
       "      <td>['Adventure', 'Fantasy', 'Action']</td>\n",
       "      <td>['ocean', 'drug abuse', 'exotic island', 'east...</td>\n",
       "      <td>['English']</td>\n",
       "      <td>['Walt Disney Pictures', 'Jerry Bruckheimer Fi...</td>\n",
       "      <td>['United States of America']</td>\n",
       "      <td>2007.0</td>\n",
       "      <td>5.0</td>\n",
       "      <td>1</td>\n",
       "      <td>300.0</td>\n",
       "    </tr>\n",
       "    <tr>\n",
       "      <th>2</th>\n",
       "      <td>Spectre</td>\n",
       "      <td>5721876.0</td>\n",
       "      <td>14116.0</td>\n",
       "      <td>353.0</td>\n",
       "      <td>673.0</td>\n",
       "      <td>245000000</td>\n",
       "      <td>A cryptic message from Bond’s past sends him o...</td>\n",
       "      <td>148.0</td>\n",
       "      <td>A Plan No One Escapes</td>\n",
       "      <td>['Action', 'Adventure', 'Crime']</td>\n",
       "      <td>['spy', 'based on novel', 'secret agent', 'seq...</td>\n",
       "      <td>['Français', 'English', 'Español', 'Italiano',...</td>\n",
       "      <td>['Columbia Pictures', 'Danjaq', 'B24']</td>\n",
       "      <td>['United Kingdom', 'United States of America']</td>\n",
       "      <td>2015.0</td>\n",
       "      <td>10.0</td>\n",
       "      <td>1</td>\n",
       "      <td>245.0</td>\n",
       "    </tr>\n",
       "    <tr>\n",
       "      <th>3</th>\n",
       "      <td>The Dark Knight Rises</td>\n",
       "      <td>38826999.0</td>\n",
       "      <td>118022.0</td>\n",
       "      <td>3683.0</td>\n",
       "      <td>49919.0</td>\n",
       "      <td>250000000</td>\n",
       "      <td>Following the death of District Attorney Harve...</td>\n",
       "      <td>165.0</td>\n",
       "      <td>The Legend Ends</td>\n",
       "      <td>['Action', 'Crime', 'Drama', 'Thriller']</td>\n",
       "      <td>['dc comics', 'crime fighter', 'terrorist', 's...</td>\n",
       "      <td>['English']</td>\n",
       "      <td>['Legendary Pictures', 'Warner Bros.', 'DC Ent...</td>\n",
       "      <td>['United States of America']</td>\n",
       "      <td>2012.0</td>\n",
       "      <td>7.0</td>\n",
       "      <td>1</td>\n",
       "      <td>250.0</td>\n",
       "    </tr>\n",
       "    <tr>\n",
       "      <th>4</th>\n",
       "      <td>John Carter</td>\n",
       "      <td>5065037.0</td>\n",
       "      <td>11752.0</td>\n",
       "      <td>748.0</td>\n",
       "      <td>652.0</td>\n",
       "      <td>260000000</td>\n",
       "      <td>John Carter is a war-weary, former military ca...</td>\n",
       "      <td>132.0</td>\n",
       "      <td>Lost in our world, found in another.</td>\n",
       "      <td>['Action', 'Adventure', 'Science Fiction']</td>\n",
       "      <td>['based on novel', 'mars', 'medallion', 'space...</td>\n",
       "      <td>['English']</td>\n",
       "      <td>['Walt Disney Pictures']</td>\n",
       "      <td>['United States of America']</td>\n",
       "      <td>2012.0</td>\n",
       "      <td>3.0</td>\n",
       "      <td>1</td>\n",
       "      <td>260.0</td>\n",
       "    </tr>\n",
       "  </tbody>\n",
       "</table>\n",
       "</div>"
      ],
      "text/plain": [
       "                                      movie       views     likes  dislikes  \\\n",
       "0                                    Avatar   8611952.0   45703.0    2137.0   \n",
       "1  Pirates of the Caribbean: At World's End   2678687.0   16962.0     302.0   \n",
       "2                                   Spectre   5721876.0   14116.0     353.0   \n",
       "3                     The Dark Knight Rises  38826999.0  118022.0    3683.0   \n",
       "4                               John Carter   5065037.0   11752.0     748.0   \n",
       "\n",
       "   comments     budget                                           overview  \\\n",
       "0    7631.0  237000000  In the 22nd century, a paraplegic Marine is di...   \n",
       "1       0.0  300000000  Captain Barbossa, long believed to be dead, ha...   \n",
       "2     673.0  245000000  A cryptic message from Bond’s past sends him o...   \n",
       "3   49919.0  250000000  Following the death of District Attorney Harve...   \n",
       "4     652.0  260000000  John Carter is a war-weary, former military ca...   \n",
       "\n",
       "   runtime                                         tagline  \\\n",
       "0    162.0                     Enter the World of Pandora.   \n",
       "1    169.0  At the end of the world, the adventure begins.   \n",
       "2    148.0                           A Plan No One Escapes   \n",
       "3    165.0                                 The Legend Ends   \n",
       "4    132.0            Lost in our world, found in another.   \n",
       "\n",
       "                                               genre  \\\n",
       "0  ['Action', 'Adventure', 'Fantasy', 'Science Fi...   \n",
       "1                 ['Adventure', 'Fantasy', 'Action']   \n",
       "2                   ['Action', 'Adventure', 'Crime']   \n",
       "3           ['Action', 'Crime', 'Drama', 'Thriller']   \n",
       "4         ['Action', 'Adventure', 'Science Fiction']   \n",
       "\n",
       "                                             keyword  \\\n",
       "0  ['culture clash', 'future', 'space war', 'spac...   \n",
       "1  ['ocean', 'drug abuse', 'exotic island', 'east...   \n",
       "2  ['spy', 'based on novel', 'secret agent', 'seq...   \n",
       "3  ['dc comics', 'crime fighter', 'terrorist', 's...   \n",
       "4  ['based on novel', 'mars', 'medallion', 'space...   \n",
       "\n",
       "                                            language  \\\n",
       "0                             ['English', 'Español']   \n",
       "1                                        ['English']   \n",
       "2  ['Français', 'English', 'Español', 'Italiano',...   \n",
       "3                                        ['English']   \n",
       "4                                        ['English']   \n",
       "\n",
       "                                           companies  \\\n",
       "0  ['Ingenious Film Partners', 'Twentieth Century...   \n",
       "1  ['Walt Disney Pictures', 'Jerry Bruckheimer Fi...   \n",
       "2             ['Columbia Pictures', 'Danjaq', 'B24']   \n",
       "3  ['Legendary Pictures', 'Warner Bros.', 'DC Ent...   \n",
       "4                           ['Walt Disney Pictures']   \n",
       "\n",
       "                                        countries    year  month  \\\n",
       "0  ['United States of America', 'United Kingdom']  2009.0   12.0   \n",
       "1                    ['United States of America']  2007.0    5.0   \n",
       "2  ['United Kingdom', 'United States of America']  2015.0   10.0   \n",
       "3                    ['United States of America']  2012.0    7.0   \n",
       "4                    ['United States of America']  2012.0    3.0   \n",
       "\n",
       "   homepage_binary  budget_mln  \n",
       "0                1       237.0  \n",
       "1                1       300.0  \n",
       "2                1       245.0  \n",
       "3                1       250.0  \n",
       "4                1       260.0  "
      ]
     },
     "execution_count": 2,
     "metadata": {},
     "output_type": "execute_result"
    }
   ],
   "source": [
    "movies = pd.read_csv('data/cleaned_movie_stats.csv')\n",
    "\n",
    "# Extracting Labels\n",
    "ratings_labels = movies['vote_average'].values\n",
    "popularity_labels =  movies['popularity'].values\n",
    "movie_label = movies['movie'].values\n",
    "\n",
    "# Data\n",
    "movies = movies.drop(['genres', 'vid_ids', 'id', 'homepage','revenue', \n",
    "                      'release_date', 'decade', 'original_title', 'production_countries',\n",
    "                     'production_companies', 'original_language', 'popularity', 'vote_average',\n",
    "                     'spoken_languages', 'status', 'title', 'keywords', 'vote_count'], axis=1)\n",
    "movies.head()"
   ]
  },
  {
   "cell_type": "code",
   "execution_count": 3,
   "id": "09e5f0f1",
   "metadata": {
    "scrolled": true
   },
   "outputs": [
    {
     "data": {
      "text/plain": [
       "Index(['movie', 'views', 'likes', 'dislikes', 'comments', 'budget', 'overview',\n",
       "       'runtime', 'tagline', 'genre', 'keyword', 'language', 'companies',\n",
       "       'countries', 'year', 'month', 'homepage_binary', 'budget_mln'],\n",
       "      dtype='object')"
      ]
     },
     "execution_count": 3,
     "metadata": {},
     "output_type": "execute_result"
    }
   ],
   "source": [
    "movies.columns"
   ]
  },
  {
   "cell_type": "markdown",
   "id": "945cbaa1",
   "metadata": {},
   "source": [
    "## Dropping Null Values"
   ]
  },
  {
   "cell_type": "code",
   "execution_count": 4,
   "id": "d93e0027",
   "metadata": {},
   "outputs": [
    {
     "data": {
      "text/plain": [
       "movie              False\n",
       "views               True\n",
       "likes               True\n",
       "dislikes            True\n",
       "comments            True\n",
       "budget             False\n",
       "overview            True\n",
       "runtime             True\n",
       "tagline             True\n",
       "genre              False\n",
       "keyword            False\n",
       "language           False\n",
       "companies          False\n",
       "countries          False\n",
       "year                True\n",
       "month               True\n",
       "homepage_binary    False\n",
       "budget_mln         False\n",
       "dtype: bool"
      ]
     },
     "execution_count": 4,
     "metadata": {},
     "output_type": "execute_result"
    }
   ],
   "source": [
    "movies.isna().any()"
   ]
  },
  {
   "cell_type": "code",
   "execution_count": 5,
   "id": "37cfbf4e",
   "metadata": {},
   "outputs": [
    {
     "data": {
      "text/plain": [
       "(4803, 18)"
      ]
     },
     "execution_count": 5,
     "metadata": {},
     "output_type": "execute_result"
    }
   ],
   "source": [
    "movies.shape"
   ]
  },
  {
   "cell_type": "code",
   "execution_count": 6,
   "id": "26e0daff",
   "metadata": {},
   "outputs": [
    {
     "data": {
      "text/plain": [
       "(3841, 18)"
      ]
     },
     "execution_count": 6,
     "metadata": {},
     "output_type": "execute_result"
    }
   ],
   "source": [
    "movies = movies.dropna()\n",
    "movies.shape"
   ]
  },
  {
   "cell_type": "code",
   "execution_count": 7,
   "id": "e3698b42",
   "metadata": {},
   "outputs": [
    {
     "data": {
      "text/plain": [
       "movie              False\n",
       "views              False\n",
       "likes              False\n",
       "dislikes           False\n",
       "comments           False\n",
       "budget             False\n",
       "overview           False\n",
       "runtime            False\n",
       "tagline            False\n",
       "genre              False\n",
       "keyword            False\n",
       "language           False\n",
       "companies          False\n",
       "countries          False\n",
       "year               False\n",
       "month              False\n",
       "homepage_binary    False\n",
       "budget_mln         False\n",
       "dtype: bool"
      ]
     },
     "execution_count": 7,
     "metadata": {},
     "output_type": "execute_result"
    }
   ],
   "source": [
    "movies.isna().any()"
   ]
  },
  {
   "cell_type": "markdown",
   "id": "53c60f01",
   "metadata": {},
   "source": [
    "### Converting String of List of Strings to Array/List"
   ]
  },
  {
   "cell_type": "code",
   "execution_count": 8,
   "id": "91302503",
   "metadata": {},
   "outputs": [
    {
     "data": {
      "text/plain": [
       "['Action', 'Adventure', 'Fantasy', 'Science Fiction']"
      ]
     },
     "execution_count": 8,
     "metadata": {},
     "output_type": "execute_result"
    }
   ],
   "source": [
    "# Example for Genre Seperations\n",
    "import regex as re\n",
    "genres = movies['genre']\n",
    "genre_seperations = re.findall(r\"[^']+\", genres[0])\n",
    "new_genres = [genre_seperations[index] for index in range(1, len(genre_seperations), 2)]\n",
    "new_genres"
   ]
  },
  {
   "cell_type": "code",
   "execution_count": 9,
   "id": "21ee9bc7",
   "metadata": {},
   "outputs": [
    {
     "name": "stderr",
     "output_type": "stream",
     "text": [
      "/Users/eliassaravia/opt/anaconda3/lib/python3.8/site-packages/numpy/core/_asarray.py:102: VisibleDeprecationWarning: Creating an ndarray from ragged nested sequences (which is a list-or-tuple of lists-or-tuples-or ndarrays with different lengths or shapes) is deprecated. If you meant to do this, you must specify 'dtype=object' when creating the ndarray.\n",
      "  return array(a, dtype, copy=False, order=order)\n"
     ]
    },
    {
     "data": {
      "text/plain": [
       "array([list(['Action', 'Adventure', 'Fantasy', 'Science Fiction']),\n",
       "       list(['Adventure', 'Fantasy', 'Action']),\n",
       "       list(['Action', 'Adventure', 'Crime']), ...,\n",
       "       list(['Action', 'Crime', 'Thriller']), list(['Comedy', 'Romance']),\n",
       "       list([])], dtype=object)"
      ]
     },
     "execution_count": 9,
     "metadata": {},
     "output_type": "execute_result"
    }
   ],
   "source": [
    "import regex as re\n",
    "\n",
    "genres = movies['genre']\n",
    "new_genre_list = []\n",
    "\n",
    "for genre_list in genres:\n",
    "    genre_seperations = re.findall(r\"[^']+\", genre_list)\n",
    "    new_genres = [genre_seperations[index] for index in range(1, len(genre_seperations), 2)]\n",
    "    new_genre_list.append(new_genres)\n",
    "    \n",
    "new_genre_list = np.asarray(new_genre_list)\n",
    "new_genre_list"
   ]
  },
  {
   "cell_type": "markdown",
   "id": "d2b7b72b",
   "metadata": {},
   "source": [
    "## Data Preparation"
   ]
  },
  {
   "cell_type": "code",
   "execution_count": 10,
   "id": "6cf69c5c",
   "metadata": {},
   "outputs": [],
   "source": [
    "#Defining a Function\n",
    "# To convert String of List of Strings to Array\n",
    "def convert_to_list_of_strings(df_column):\n",
    "    \n",
    "    new_list = []\n",
    "    \n",
    "    for topics in df_column:\n",
    "        topic_seperations = re.findall(r\"[^']+\", topics)\n",
    "        new_topics = [topic_seperations[index] for index in range(1, len(topic_seperations), 2)]\n",
    "        new_list.append(new_topics)\n",
    "        \n",
    "    return np.asarray(new_list)"
   ]
  },
  {
   "cell_type": "code",
   "execution_count": 11,
   "id": "83d101b1",
   "metadata": {},
   "outputs": [],
   "source": [
    "movies['genre'] = convert_to_list_of_strings(movies['genre'])\n",
    "movies['keyword'] = convert_to_list_of_strings(movies['keyword'])\n",
    "movies['companies'] = convert_to_list_of_strings(movies['companies'])\n",
    "movies['countries'] = convert_to_list_of_strings(movies['countries'])\n",
    "movies['language'] = convert_to_list_of_strings(movies['language'])"
   ]
  },
  {
   "cell_type": "code",
   "execution_count": 12,
   "id": "3b03d987",
   "metadata": {},
   "outputs": [
    {
     "data": {
      "text/html": [
       "<div>\n",
       "<style scoped>\n",
       "    .dataframe tbody tr th:only-of-type {\n",
       "        vertical-align: middle;\n",
       "    }\n",
       "\n",
       "    .dataframe tbody tr th {\n",
       "        vertical-align: top;\n",
       "    }\n",
       "\n",
       "    .dataframe thead th {\n",
       "        text-align: right;\n",
       "    }\n",
       "</style>\n",
       "<table border=\"1\" class=\"dataframe\">\n",
       "  <thead>\n",
       "    <tr style=\"text-align: right;\">\n",
       "      <th></th>\n",
       "      <th>movie</th>\n",
       "      <th>views</th>\n",
       "      <th>likes</th>\n",
       "      <th>dislikes</th>\n",
       "      <th>comments</th>\n",
       "      <th>budget</th>\n",
       "      <th>overview</th>\n",
       "      <th>runtime</th>\n",
       "      <th>tagline</th>\n",
       "      <th>genre</th>\n",
       "      <th>keyword</th>\n",
       "      <th>language</th>\n",
       "      <th>companies</th>\n",
       "      <th>countries</th>\n",
       "      <th>year</th>\n",
       "      <th>month</th>\n",
       "      <th>homepage_binary</th>\n",
       "      <th>budget_mln</th>\n",
       "    </tr>\n",
       "  </thead>\n",
       "  <tbody>\n",
       "    <tr>\n",
       "      <th>0</th>\n",
       "      <td>Avatar</td>\n",
       "      <td>8611952.0</td>\n",
       "      <td>45703.0</td>\n",
       "      <td>2137.0</td>\n",
       "      <td>7631.0</td>\n",
       "      <td>237000000</td>\n",
       "      <td>In the 22nd century, a paraplegic Marine is di...</td>\n",
       "      <td>162.0</td>\n",
       "      <td>Enter the World of Pandora.</td>\n",
       "      <td>[Action, Adventure, Fantasy, Science Fiction]</td>\n",
       "      <td>[culture clash, future, space war, space colon...</td>\n",
       "      <td>[English, Español]</td>\n",
       "      <td>[Ingenious Film Partners, Twentieth Century Fo...</td>\n",
       "      <td>[United States of America, United Kingdom]</td>\n",
       "      <td>2009.0</td>\n",
       "      <td>12.0</td>\n",
       "      <td>1</td>\n",
       "      <td>237.0</td>\n",
       "    </tr>\n",
       "    <tr>\n",
       "      <th>1</th>\n",
       "      <td>Pirates of the Caribbean: At World's End</td>\n",
       "      <td>2678687.0</td>\n",
       "      <td>16962.0</td>\n",
       "      <td>302.0</td>\n",
       "      <td>0.0</td>\n",
       "      <td>300000000</td>\n",
       "      <td>Captain Barbossa, long believed to be dead, ha...</td>\n",
       "      <td>169.0</td>\n",
       "      <td>At the end of the world, the adventure begins.</td>\n",
       "      <td>[Adventure, Fantasy, Action]</td>\n",
       "      <td>[ocean, drug abuse, exotic island, east india ...</td>\n",
       "      <td>[English]</td>\n",
       "      <td>[Walt Disney Pictures, Jerry Bruckheimer Films...</td>\n",
       "      <td>[United States of America]</td>\n",
       "      <td>2007.0</td>\n",
       "      <td>5.0</td>\n",
       "      <td>1</td>\n",
       "      <td>300.0</td>\n",
       "    </tr>\n",
       "    <tr>\n",
       "      <th>2</th>\n",
       "      <td>Spectre</td>\n",
       "      <td>5721876.0</td>\n",
       "      <td>14116.0</td>\n",
       "      <td>353.0</td>\n",
       "      <td>673.0</td>\n",
       "      <td>245000000</td>\n",
       "      <td>A cryptic message from Bond’s past sends him o...</td>\n",
       "      <td>148.0</td>\n",
       "      <td>A Plan No One Escapes</td>\n",
       "      <td>[Action, Adventure, Crime]</td>\n",
       "      <td>[spy, based on novel, secret agent, sequel, mi...</td>\n",
       "      <td>[Français, English, Español, Italiano, Deutsch]</td>\n",
       "      <td>[Columbia Pictures, Danjaq, B24]</td>\n",
       "      <td>[United Kingdom, United States of America]</td>\n",
       "      <td>2015.0</td>\n",
       "      <td>10.0</td>\n",
       "      <td>1</td>\n",
       "      <td>245.0</td>\n",
       "    </tr>\n",
       "    <tr>\n",
       "      <th>3</th>\n",
       "      <td>The Dark Knight Rises</td>\n",
       "      <td>38826999.0</td>\n",
       "      <td>118022.0</td>\n",
       "      <td>3683.0</td>\n",
       "      <td>49919.0</td>\n",
       "      <td>250000000</td>\n",
       "      <td>Following the death of District Attorney Harve...</td>\n",
       "      <td>165.0</td>\n",
       "      <td>The Legend Ends</td>\n",
       "      <td>[Action, Crime, Drama, Thriller]</td>\n",
       "      <td>[dc comics, crime fighter, terrorist, secret i...</td>\n",
       "      <td>[English]</td>\n",
       "      <td>[Legendary Pictures, Warner Bros., DC Entertai...</td>\n",
       "      <td>[United States of America]</td>\n",
       "      <td>2012.0</td>\n",
       "      <td>7.0</td>\n",
       "      <td>1</td>\n",
       "      <td>250.0</td>\n",
       "    </tr>\n",
       "    <tr>\n",
       "      <th>4</th>\n",
       "      <td>John Carter</td>\n",
       "      <td>5065037.0</td>\n",
       "      <td>11752.0</td>\n",
       "      <td>748.0</td>\n",
       "      <td>652.0</td>\n",
       "      <td>260000000</td>\n",
       "      <td>John Carter is a war-weary, former military ca...</td>\n",
       "      <td>132.0</td>\n",
       "      <td>Lost in our world, found in another.</td>\n",
       "      <td>[Action, Adventure, Science Fiction]</td>\n",
       "      <td>[based on novel, mars, medallion, space travel...</td>\n",
       "      <td>[English]</td>\n",
       "      <td>[Walt Disney Pictures]</td>\n",
       "      <td>[United States of America]</td>\n",
       "      <td>2012.0</td>\n",
       "      <td>3.0</td>\n",
       "      <td>1</td>\n",
       "      <td>260.0</td>\n",
       "    </tr>\n",
       "  </tbody>\n",
       "</table>\n",
       "</div>"
      ],
      "text/plain": [
       "                                      movie       views     likes  dislikes  \\\n",
       "0                                    Avatar   8611952.0   45703.0    2137.0   \n",
       "1  Pirates of the Caribbean: At World's End   2678687.0   16962.0     302.0   \n",
       "2                                   Spectre   5721876.0   14116.0     353.0   \n",
       "3                     The Dark Knight Rises  38826999.0  118022.0    3683.0   \n",
       "4                               John Carter   5065037.0   11752.0     748.0   \n",
       "\n",
       "   comments     budget                                           overview  \\\n",
       "0    7631.0  237000000  In the 22nd century, a paraplegic Marine is di...   \n",
       "1       0.0  300000000  Captain Barbossa, long believed to be dead, ha...   \n",
       "2     673.0  245000000  A cryptic message from Bond’s past sends him o...   \n",
       "3   49919.0  250000000  Following the death of District Attorney Harve...   \n",
       "4     652.0  260000000  John Carter is a war-weary, former military ca...   \n",
       "\n",
       "   runtime                                         tagline  \\\n",
       "0    162.0                     Enter the World of Pandora.   \n",
       "1    169.0  At the end of the world, the adventure begins.   \n",
       "2    148.0                           A Plan No One Escapes   \n",
       "3    165.0                                 The Legend Ends   \n",
       "4    132.0            Lost in our world, found in another.   \n",
       "\n",
       "                                           genre  \\\n",
       "0  [Action, Adventure, Fantasy, Science Fiction]   \n",
       "1                   [Adventure, Fantasy, Action]   \n",
       "2                     [Action, Adventure, Crime]   \n",
       "3               [Action, Crime, Drama, Thriller]   \n",
       "4           [Action, Adventure, Science Fiction]   \n",
       "\n",
       "                                             keyword  \\\n",
       "0  [culture clash, future, space war, space colon...   \n",
       "1  [ocean, drug abuse, exotic island, east india ...   \n",
       "2  [spy, based on novel, secret agent, sequel, mi...   \n",
       "3  [dc comics, crime fighter, terrorist, secret i...   \n",
       "4  [based on novel, mars, medallion, space travel...   \n",
       "\n",
       "                                          language  \\\n",
       "0                               [English, Español]   \n",
       "1                                        [English]   \n",
       "2  [Français, English, Español, Italiano, Deutsch]   \n",
       "3                                        [English]   \n",
       "4                                        [English]   \n",
       "\n",
       "                                           companies  \\\n",
       "0  [Ingenious Film Partners, Twentieth Century Fo...   \n",
       "1  [Walt Disney Pictures, Jerry Bruckheimer Films...   \n",
       "2                   [Columbia Pictures, Danjaq, B24]   \n",
       "3  [Legendary Pictures, Warner Bros., DC Entertai...   \n",
       "4                             [Walt Disney Pictures]   \n",
       "\n",
       "                                    countries    year  month  homepage_binary  \\\n",
       "0  [United States of America, United Kingdom]  2009.0   12.0                1   \n",
       "1                  [United States of America]  2007.0    5.0                1   \n",
       "2  [United Kingdom, United States of America]  2015.0   10.0                1   \n",
       "3                  [United States of America]  2012.0    7.0                1   \n",
       "4                  [United States of America]  2012.0    3.0                1   \n",
       "\n",
       "   budget_mln  \n",
       "0       237.0  \n",
       "1       300.0  \n",
       "2       245.0  \n",
       "3       250.0  \n",
       "4       260.0  "
      ]
     },
     "execution_count": 12,
     "metadata": {},
     "output_type": "execute_result"
    }
   ],
   "source": [
    "movies.head()"
   ]
  },
  {
   "cell_type": "code",
   "execution_count": 13,
   "id": "b05a9280",
   "metadata": {},
   "outputs": [
    {
     "data": {
      "text/html": [
       "<div>\n",
       "<style scoped>\n",
       "    .dataframe tbody tr th:only-of-type {\n",
       "        vertical-align: middle;\n",
       "    }\n",
       "\n",
       "    .dataframe tbody tr th {\n",
       "        vertical-align: top;\n",
       "    }\n",
       "\n",
       "    .dataframe thead th {\n",
       "        text-align: right;\n",
       "    }\n",
       "</style>\n",
       "<table border=\"1\" class=\"dataframe\">\n",
       "  <thead>\n",
       "    <tr style=\"text-align: right;\">\n",
       "      <th></th>\n",
       "      <th>movie</th>\n",
       "      <th>views</th>\n",
       "      <th>likes</th>\n",
       "      <th>dislikes</th>\n",
       "      <th>comments</th>\n",
       "      <th>budget</th>\n",
       "      <th>overview</th>\n",
       "      <th>runtime</th>\n",
       "      <th>tagline</th>\n",
       "      <th>keyword</th>\n",
       "      <th>...</th>\n",
       "      <th>History</th>\n",
       "      <th>Horror</th>\n",
       "      <th>Music</th>\n",
       "      <th>Mystery</th>\n",
       "      <th>Romance</th>\n",
       "      <th>Science Fiction</th>\n",
       "      <th>TV Movie</th>\n",
       "      <th>Thriller</th>\n",
       "      <th>War</th>\n",
       "      <th>Western</th>\n",
       "    </tr>\n",
       "  </thead>\n",
       "  <tbody>\n",
       "    <tr>\n",
       "      <th>0</th>\n",
       "      <td>Avatar</td>\n",
       "      <td>8611952.0</td>\n",
       "      <td>45703.0</td>\n",
       "      <td>2137.0</td>\n",
       "      <td>7631.0</td>\n",
       "      <td>237000000</td>\n",
       "      <td>In the 22nd century, a paraplegic Marine is di...</td>\n",
       "      <td>162.0</td>\n",
       "      <td>Enter the World of Pandora.</td>\n",
       "      <td>[culture clash, future, space war, space colon...</td>\n",
       "      <td>...</td>\n",
       "      <td>0.0</td>\n",
       "      <td>0.0</td>\n",
       "      <td>0.0</td>\n",
       "      <td>0.0</td>\n",
       "      <td>0.0</td>\n",
       "      <td>1.0</td>\n",
       "      <td>0.0</td>\n",
       "      <td>0.0</td>\n",
       "      <td>0.0</td>\n",
       "      <td>0.0</td>\n",
       "    </tr>\n",
       "    <tr>\n",
       "      <th>1</th>\n",
       "      <td>Pirates of the Caribbean: At World's End</td>\n",
       "      <td>2678687.0</td>\n",
       "      <td>16962.0</td>\n",
       "      <td>302.0</td>\n",
       "      <td>0.0</td>\n",
       "      <td>300000000</td>\n",
       "      <td>Captain Barbossa, long believed to be dead, ha...</td>\n",
       "      <td>169.0</td>\n",
       "      <td>At the end of the world, the adventure begins.</td>\n",
       "      <td>[ocean, drug abuse, exotic island, east india ...</td>\n",
       "      <td>...</td>\n",
       "      <td>0.0</td>\n",
       "      <td>0.0</td>\n",
       "      <td>0.0</td>\n",
       "      <td>0.0</td>\n",
       "      <td>0.0</td>\n",
       "      <td>0.0</td>\n",
       "      <td>0.0</td>\n",
       "      <td>0.0</td>\n",
       "      <td>0.0</td>\n",
       "      <td>0.0</td>\n",
       "    </tr>\n",
       "  </tbody>\n",
       "</table>\n",
       "<p>2 rows × 37 columns</p>\n",
       "</div>"
      ],
      "text/plain": [
       "                                      movie      views    likes  dislikes  \\\n",
       "0                                    Avatar  8611952.0  45703.0    2137.0   \n",
       "1  Pirates of the Caribbean: At World's End  2678687.0  16962.0     302.0   \n",
       "\n",
       "   comments     budget                                           overview  \\\n",
       "0    7631.0  237000000  In the 22nd century, a paraplegic Marine is di...   \n",
       "1       0.0  300000000  Captain Barbossa, long believed to be dead, ha...   \n",
       "\n",
       "   runtime                                         tagline  \\\n",
       "0    162.0                     Enter the World of Pandora.   \n",
       "1    169.0  At the end of the world, the adventure begins.   \n",
       "\n",
       "                                             keyword  ... History Horror  \\\n",
       "0  [culture clash, future, space war, space colon...  ...     0.0    0.0   \n",
       "1  [ocean, drug abuse, exotic island, east india ...  ...     0.0    0.0   \n",
       "\n",
       "  Music  Mystery  Romance  Science Fiction  TV Movie  Thriller  War  Western  \n",
       "0   0.0      0.0      0.0              1.0       0.0       0.0  0.0      0.0  \n",
       "1   0.0      0.0      0.0              0.0       0.0       0.0  0.0      0.0  \n",
       "\n",
       "[2 rows x 37 columns]"
      ]
     },
     "execution_count": 13,
     "metadata": {},
     "output_type": "execute_result"
    }
   ],
   "source": [
    "genre_dummies = pd.get_dummies(movies['genre'].apply(pd.Series).stack()).sum(level=0)\n",
    "movies = movies.assign(**genre_dummies).drop(['genre'], axis=1)\n",
    "movies.head(2)"
   ]
  },
  {
   "cell_type": "markdown",
   "id": "e42bfdef",
   "metadata": {},
   "source": [
    "### Adding Top 10 Production Companies (Binarized)"
   ]
  },
  {
   "cell_type": "code",
   "execution_count": 14,
   "id": "cb3d95df",
   "metadata": {},
   "outputs": [
    {
     "data": {
      "text/plain": [
       "0       [Ingenious Film Partners, Twentieth Century Fo...\n",
       "1       [Walt Disney Pictures, Jerry Bruckheimer Films...\n",
       "2                        [Columbia Pictures, Danjaq, B24]\n",
       "3       [Legendary Pictures, Warner Bros., DC Entertai...\n",
       "4                                  [Walt Disney Pictures]\n",
       "                              ...                        \n",
       "4795    [Asylum Films, FM Entertainment, Eagle Eye Fil...\n",
       "4796                                          [Thinkfilm]\n",
       "4798                                  [Columbia Pictures]\n",
       "4799                                                   []\n",
       "4801                                                   []\n",
       "Name: companies, Length: 3841, dtype: object"
      ]
     },
     "execution_count": 14,
     "metadata": {},
     "output_type": "execute_result"
    }
   ],
   "source": [
    "movies['companies']"
   ]
  },
  {
   "cell_type": "code",
   "execution_count": 15,
   "id": "6af912cc",
   "metadata": {},
   "outputs": [
    {
     "data": {
      "text/plain": [
       "(3841, 3841)"
      ]
     },
     "execution_count": 15,
     "metadata": {},
     "output_type": "execute_result"
    }
   ],
   "source": [
    "# Production Companies\n",
    "# Creating a Seperate Column that Dictates Whether or Not\n",
    "# The movie is from a Top 10 Major Production Company\n",
    "# Top 10 Major Production Companies: https://blog.bizvibe.com/blog/top-movie-production-companies\n",
    "\n",
    "popular_companies = ['Universal Pictures', 'Warner Bros.', 'Columbia Pictures', 'Walt Disney Pictures',\n",
    "                    'Paramount Pictures', 'Twentieth Century Fox', 'RatPac-Dune Entertainment',\n",
    "                    'Legendary Entertainment', 'Relativity Media']\n",
    "\n",
    "pop_companies_binary = []\n",
    "for production_companies in movies['companies']:\n",
    "    \n",
    "    if len(production_companies) == 0:\n",
    "        pop_companies_binary.append(0)\n",
    "        continue\n",
    "    \n",
    "    else:\n",
    "        for company, index in zip(production_companies, range(0, len(production_companies))):\n",
    "            if company in popular_companies:\n",
    "                pop_companies_binary.append(1)\n",
    "                break\n",
    "            elif index == len(production_companies) - 1:\n",
    "                pop_companies_binary.append(0)\n",
    "\n",
    "len(pop_companies_binary), len(movies['companies'].values)"
   ]
  },
  {
   "cell_type": "code",
   "execution_count": 16,
   "id": "52919ce2",
   "metadata": {},
   "outputs": [
    {
     "data": {
      "text/html": [
       "<div>\n",
       "<style scoped>\n",
       "    .dataframe tbody tr th:only-of-type {\n",
       "        vertical-align: middle;\n",
       "    }\n",
       "\n",
       "    .dataframe tbody tr th {\n",
       "        vertical-align: top;\n",
       "    }\n",
       "\n",
       "    .dataframe thead th {\n",
       "        text-align: right;\n",
       "    }\n",
       "</style>\n",
       "<table border=\"1\" class=\"dataframe\">\n",
       "  <thead>\n",
       "    <tr style=\"text-align: right;\">\n",
       "      <th></th>\n",
       "      <th>movie</th>\n",
       "      <th>views</th>\n",
       "      <th>likes</th>\n",
       "      <th>dislikes</th>\n",
       "      <th>comments</th>\n",
       "      <th>budget</th>\n",
       "      <th>overview</th>\n",
       "      <th>runtime</th>\n",
       "      <th>tagline</th>\n",
       "      <th>keyword</th>\n",
       "      <th>...</th>\n",
       "      <th>Horror</th>\n",
       "      <th>Music</th>\n",
       "      <th>Mystery</th>\n",
       "      <th>Romance</th>\n",
       "      <th>Science Fiction</th>\n",
       "      <th>TV Movie</th>\n",
       "      <th>Thriller</th>\n",
       "      <th>War</th>\n",
       "      <th>Western</th>\n",
       "      <th>top_production_company</th>\n",
       "    </tr>\n",
       "  </thead>\n",
       "  <tbody>\n",
       "    <tr>\n",
       "      <th>0</th>\n",
       "      <td>Avatar</td>\n",
       "      <td>8611952.0</td>\n",
       "      <td>45703.0</td>\n",
       "      <td>2137.0</td>\n",
       "      <td>7631.0</td>\n",
       "      <td>237000000</td>\n",
       "      <td>In the 22nd century, a paraplegic Marine is di...</td>\n",
       "      <td>162.0</td>\n",
       "      <td>Enter the World of Pandora.</td>\n",
       "      <td>[culture clash, future, space war, space colon...</td>\n",
       "      <td>...</td>\n",
       "      <td>0.0</td>\n",
       "      <td>0.0</td>\n",
       "      <td>0.0</td>\n",
       "      <td>0.0</td>\n",
       "      <td>1.0</td>\n",
       "      <td>0.0</td>\n",
       "      <td>0.0</td>\n",
       "      <td>0.0</td>\n",
       "      <td>0.0</td>\n",
       "      <td>0</td>\n",
       "    </tr>\n",
       "    <tr>\n",
       "      <th>1</th>\n",
       "      <td>Pirates of the Caribbean: At World's End</td>\n",
       "      <td>2678687.0</td>\n",
       "      <td>16962.0</td>\n",
       "      <td>302.0</td>\n",
       "      <td>0.0</td>\n",
       "      <td>300000000</td>\n",
       "      <td>Captain Barbossa, long believed to be dead, ha...</td>\n",
       "      <td>169.0</td>\n",
       "      <td>At the end of the world, the adventure begins.</td>\n",
       "      <td>[ocean, drug abuse, exotic island, east india ...</td>\n",
       "      <td>...</td>\n",
       "      <td>0.0</td>\n",
       "      <td>0.0</td>\n",
       "      <td>0.0</td>\n",
       "      <td>0.0</td>\n",
       "      <td>0.0</td>\n",
       "      <td>0.0</td>\n",
       "      <td>0.0</td>\n",
       "      <td>0.0</td>\n",
       "      <td>0.0</td>\n",
       "      <td>1</td>\n",
       "    </tr>\n",
       "  </tbody>\n",
       "</table>\n",
       "<p>2 rows × 38 columns</p>\n",
       "</div>"
      ],
      "text/plain": [
       "                                      movie      views    likes  dislikes  \\\n",
       "0                                    Avatar  8611952.0  45703.0    2137.0   \n",
       "1  Pirates of the Caribbean: At World's End  2678687.0  16962.0     302.0   \n",
       "\n",
       "   comments     budget                                           overview  \\\n",
       "0    7631.0  237000000  In the 22nd century, a paraplegic Marine is di...   \n",
       "1       0.0  300000000  Captain Barbossa, long believed to be dead, ha...   \n",
       "\n",
       "   runtime                                         tagline  \\\n",
       "0    162.0                     Enter the World of Pandora.   \n",
       "1    169.0  At the end of the world, the adventure begins.   \n",
       "\n",
       "                                             keyword  ... Horror Music  \\\n",
       "0  [culture clash, future, space war, space colon...  ...    0.0   0.0   \n",
       "1  [ocean, drug abuse, exotic island, east india ...  ...    0.0   0.0   \n",
       "\n",
       "  Mystery  Romance  Science Fiction  TV Movie  Thriller  War  Western  \\\n",
       "0     0.0      0.0              1.0       0.0       0.0  0.0      0.0   \n",
       "1     0.0      0.0              0.0       0.0       0.0  0.0      0.0   \n",
       "\n",
       "   top_production_company  \n",
       "0                       0  \n",
       "1                       1  \n",
       "\n",
       "[2 rows x 38 columns]"
      ]
     },
     "execution_count": 16,
     "metadata": {},
     "output_type": "execute_result"
    }
   ],
   "source": [
    "movies['top_production_company'] = pop_companies_binary\n",
    "movies.head(2)"
   ]
  },
  {
   "cell_type": "code",
   "execution_count": 17,
   "id": "3df264b5",
   "metadata": {},
   "outputs": [
    {
     "data": {
      "text/plain": [
       "Index(['movie', 'views', 'likes', 'dislikes', 'comments', 'budget', 'overview',\n",
       "       'runtime', 'tagline', 'keyword', 'language', 'companies', 'countries',\n",
       "       'year', 'month', 'homepage_binary', 'budget_mln', 'Action', 'Adventure',\n",
       "       'Animation', 'Comedy', 'Crime', 'Documentary', 'Drama', 'Family',\n",
       "       'Fantasy', 'Foreign', 'History', 'Horror', 'Music', 'Mystery',\n",
       "       'Romance', 'Science Fiction', 'TV Movie', 'Thriller', 'War', 'Western',\n",
       "       'top_production_company'],\n",
       "      dtype='object')"
      ]
     },
     "execution_count": 17,
     "metadata": {},
     "output_type": "execute_result"
    }
   ],
   "source": [
    "movies.columns"
   ]
  },
  {
   "cell_type": "markdown",
   "id": "6b3384f6",
   "metadata": {},
   "source": [
    "**Note:** Removing Overview and Tagline Temporarily for Clean Model"
   ]
  },
  {
   "cell_type": "code",
   "execution_count": 18,
   "id": "a513551f",
   "metadata": {},
   "outputs": [
    {
     "data": {
      "text/html": [
       "<div>\n",
       "<style scoped>\n",
       "    .dataframe tbody tr th:only-of-type {\n",
       "        vertical-align: middle;\n",
       "    }\n",
       "\n",
       "    .dataframe tbody tr th {\n",
       "        vertical-align: top;\n",
       "    }\n",
       "\n",
       "    .dataframe thead th {\n",
       "        text-align: right;\n",
       "    }\n",
       "</style>\n",
       "<table border=\"1\" class=\"dataframe\">\n",
       "  <thead>\n",
       "    <tr style=\"text-align: right;\">\n",
       "      <th></th>\n",
       "      <th>movie</th>\n",
       "      <th>views</th>\n",
       "      <th>likes</th>\n",
       "      <th>dislikes</th>\n",
       "      <th>comments</th>\n",
       "      <th>budget</th>\n",
       "      <th>runtime</th>\n",
       "      <th>keyword</th>\n",
       "      <th>language</th>\n",
       "      <th>countries</th>\n",
       "      <th>...</th>\n",
       "      <th>Horror</th>\n",
       "      <th>Music</th>\n",
       "      <th>Mystery</th>\n",
       "      <th>Romance</th>\n",
       "      <th>Science Fiction</th>\n",
       "      <th>TV Movie</th>\n",
       "      <th>Thriller</th>\n",
       "      <th>War</th>\n",
       "      <th>Western</th>\n",
       "      <th>top_production_company</th>\n",
       "    </tr>\n",
       "  </thead>\n",
       "  <tbody>\n",
       "    <tr>\n",
       "      <th>0</th>\n",
       "      <td>Avatar</td>\n",
       "      <td>8611952.0</td>\n",
       "      <td>45703.0</td>\n",
       "      <td>2137.0</td>\n",
       "      <td>7631.0</td>\n",
       "      <td>237000000</td>\n",
       "      <td>162.0</td>\n",
       "      <td>[culture clash, future, space war, space colon...</td>\n",
       "      <td>[English, Español]</td>\n",
       "      <td>[United States of America, United Kingdom]</td>\n",
       "      <td>...</td>\n",
       "      <td>0.0</td>\n",
       "      <td>0.0</td>\n",
       "      <td>0.0</td>\n",
       "      <td>0.0</td>\n",
       "      <td>1.0</td>\n",
       "      <td>0.0</td>\n",
       "      <td>0.0</td>\n",
       "      <td>0.0</td>\n",
       "      <td>0.0</td>\n",
       "      <td>0</td>\n",
       "    </tr>\n",
       "    <tr>\n",
       "      <th>1</th>\n",
       "      <td>Pirates of the Caribbean: At World's End</td>\n",
       "      <td>2678687.0</td>\n",
       "      <td>16962.0</td>\n",
       "      <td>302.0</td>\n",
       "      <td>0.0</td>\n",
       "      <td>300000000</td>\n",
       "      <td>169.0</td>\n",
       "      <td>[ocean, drug abuse, exotic island, east india ...</td>\n",
       "      <td>[English]</td>\n",
       "      <td>[United States of America]</td>\n",
       "      <td>...</td>\n",
       "      <td>0.0</td>\n",
       "      <td>0.0</td>\n",
       "      <td>0.0</td>\n",
       "      <td>0.0</td>\n",
       "      <td>0.0</td>\n",
       "      <td>0.0</td>\n",
       "      <td>0.0</td>\n",
       "      <td>0.0</td>\n",
       "      <td>0.0</td>\n",
       "      <td>1</td>\n",
       "    </tr>\n",
       "  </tbody>\n",
       "</table>\n",
       "<p>2 rows × 35 columns</p>\n",
       "</div>"
      ],
      "text/plain": [
       "                                      movie      views    likes  dislikes  \\\n",
       "0                                    Avatar  8611952.0  45703.0    2137.0   \n",
       "1  Pirates of the Caribbean: At World's End  2678687.0  16962.0     302.0   \n",
       "\n",
       "   comments     budget  runtime  \\\n",
       "0    7631.0  237000000    162.0   \n",
       "1       0.0  300000000    169.0   \n",
       "\n",
       "                                             keyword            language  \\\n",
       "0  [culture clash, future, space war, space colon...  [English, Español]   \n",
       "1  [ocean, drug abuse, exotic island, east india ...           [English]   \n",
       "\n",
       "                                    countries  ...  Horror  Music  Mystery  \\\n",
       "0  [United States of America, United Kingdom]  ...     0.0    0.0      0.0   \n",
       "1                  [United States of America]  ...     0.0    0.0      0.0   \n",
       "\n",
       "   Romance  Science Fiction  TV Movie  Thriller  War  Western  \\\n",
       "0      0.0              1.0       0.0       0.0  0.0      0.0   \n",
       "1      0.0              0.0       0.0       0.0  0.0      0.0   \n",
       "\n",
       "   top_production_company  \n",
       "0                       0  \n",
       "1                       1  \n",
       "\n",
       "[2 rows x 35 columns]"
      ]
     },
     "execution_count": 18,
     "metadata": {},
     "output_type": "execute_result"
    }
   ],
   "source": [
    "movies = movies.drop(['overview', 'tagline', 'companies'], axis=1)\n",
    "movies.head(2)"
   ]
  },
  {
   "cell_type": "markdown",
   "id": "7ba36b17",
   "metadata": {},
   "source": [
    "### One-Hot Encoding Language and Countries"
   ]
  },
  {
   "cell_type": "code",
   "execution_count": 19,
   "id": "757b6ee8",
   "metadata": {},
   "outputs": [
    {
     "name": "stdout",
     "output_type": "stream",
     "text": [
      "(3841, 166)\n"
     ]
    },
    {
     "data": {
      "text/html": [
       "<div>\n",
       "<style scoped>\n",
       "    .dataframe tbody tr th:only-of-type {\n",
       "        vertical-align: middle;\n",
       "    }\n",
       "\n",
       "    .dataframe tbody tr th {\n",
       "        vertical-align: top;\n",
       "    }\n",
       "\n",
       "    .dataframe thead th {\n",
       "        text-align: right;\n",
       "    }\n",
       "</style>\n",
       "<table border=\"1\" class=\"dataframe\">\n",
       "  <thead>\n",
       "    <tr style=\"text-align: right;\">\n",
       "      <th></th>\n",
       "      <th>movie</th>\n",
       "      <th>views</th>\n",
       "      <th>likes</th>\n",
       "      <th>dislikes</th>\n",
       "      <th>comments</th>\n",
       "      <th>budget</th>\n",
       "      <th>runtime</th>\n",
       "      <th>keyword</th>\n",
       "      <th>year</th>\n",
       "      <th>month</th>\n",
       "      <th>...</th>\n",
       "      <th>Sweden</th>\n",
       "      <th>Switzerland</th>\n",
       "      <th>Taiwan</th>\n",
       "      <th>Thailand</th>\n",
       "      <th>Tunisia</th>\n",
       "      <th>Turkey</th>\n",
       "      <th>Ukraine</th>\n",
       "      <th>United Arab Emirates</th>\n",
       "      <th>United Kingdom</th>\n",
       "      <th>United States of America</th>\n",
       "    </tr>\n",
       "  </thead>\n",
       "  <tbody>\n",
       "    <tr>\n",
       "      <th>0</th>\n",
       "      <td>Avatar</td>\n",
       "      <td>8611952.0</td>\n",
       "      <td>45703.0</td>\n",
       "      <td>2137.0</td>\n",
       "      <td>7631.0</td>\n",
       "      <td>237000000</td>\n",
       "      <td>162.0</td>\n",
       "      <td>[culture clash, future, space war, space colon...</td>\n",
       "      <td>2009.0</td>\n",
       "      <td>12.0</td>\n",
       "      <td>...</td>\n",
       "      <td>0.0</td>\n",
       "      <td>0.0</td>\n",
       "      <td>0.0</td>\n",
       "      <td>0.0</td>\n",
       "      <td>0.0</td>\n",
       "      <td>0.0</td>\n",
       "      <td>0.0</td>\n",
       "      <td>0.0</td>\n",
       "      <td>1.0</td>\n",
       "      <td>1.0</td>\n",
       "    </tr>\n",
       "    <tr>\n",
       "      <th>1</th>\n",
       "      <td>Pirates of the Caribbean: At World's End</td>\n",
       "      <td>2678687.0</td>\n",
       "      <td>16962.0</td>\n",
       "      <td>302.0</td>\n",
       "      <td>0.0</td>\n",
       "      <td>300000000</td>\n",
       "      <td>169.0</td>\n",
       "      <td>[ocean, drug abuse, exotic island, east india ...</td>\n",
       "      <td>2007.0</td>\n",
       "      <td>5.0</td>\n",
       "      <td>...</td>\n",
       "      <td>0.0</td>\n",
       "      <td>0.0</td>\n",
       "      <td>0.0</td>\n",
       "      <td>0.0</td>\n",
       "      <td>0.0</td>\n",
       "      <td>0.0</td>\n",
       "      <td>0.0</td>\n",
       "      <td>0.0</td>\n",
       "      <td>0.0</td>\n",
       "      <td>1.0</td>\n",
       "    </tr>\n",
       "  </tbody>\n",
       "</table>\n",
       "<p>2 rows × 166 columns</p>\n",
       "</div>"
      ],
      "text/plain": [
       "                                      movie      views    likes  dislikes  \\\n",
       "0                                    Avatar  8611952.0  45703.0    2137.0   \n",
       "1  Pirates of the Caribbean: At World's End  2678687.0  16962.0     302.0   \n",
       "\n",
       "   comments     budget  runtime  \\\n",
       "0    7631.0  237000000    162.0   \n",
       "1       0.0  300000000    169.0   \n",
       "\n",
       "                                             keyword    year  month  ...  \\\n",
       "0  [culture clash, future, space war, space colon...  2009.0   12.0  ...   \n",
       "1  [ocean, drug abuse, exotic island, east india ...  2007.0    5.0  ...   \n",
       "\n",
       "   Sweden  Switzerland  Taiwan  Thailand  Tunisia  Turkey  Ukraine  \\\n",
       "0     0.0          0.0     0.0       0.0      0.0     0.0      0.0   \n",
       "1     0.0          0.0     0.0       0.0      0.0     0.0      0.0   \n",
       "\n",
       "   United Arab Emirates  United Kingdom  United States of America  \n",
       "0                   0.0             1.0                       1.0  \n",
       "1                   0.0             0.0                       1.0  \n",
       "\n",
       "[2 rows x 166 columns]"
      ]
     },
     "execution_count": 19,
     "metadata": {},
     "output_type": "execute_result"
    }
   ],
   "source": [
    "language_dummies = pd.get_dummies(movies['language'].apply(pd.Series).stack()).sum(level=0).drop([', '], axis=1)\n",
    "countries_dummies = pd.get_dummies(movies['countries'].apply(pd.Series).stack()).sum(level=0)\n",
    "movies = movies.assign(**language_dummies)\n",
    "movies = movies.assign(**countries_dummies)\n",
    "movies = movies.drop(['language', 'countries'], axis=1)\n",
    "print(movies.shape)\n",
    "movies.head(2)"
   ]
  },
  {
   "cell_type": "code",
   "execution_count": 20,
   "id": "7cbbe979",
   "metadata": {},
   "outputs": [
    {
     "data": {
      "text/plain": [
       "Index(['Angola', 'Argentina', 'Aruba', 'Australia', 'Austria', 'Bahamas',\n",
       "       'Belgium', 'Bhutan', 'Bolivia', 'Bosnia and Herzegovina', 'Brazil',\n",
       "       'Bulgaria', 'Cambodia', 'Canada', 'Chile', 'China', 'Colombia',\n",
       "       'Czech Republic', 'Denmark', 'Dominica', 'Ecuador', 'Egypt', 'Fiji',\n",
       "       'Finland', 'France', 'Germany', 'Greece', 'Hong Kong', 'Hungary',\n",
       "       'Iceland', 'India', 'Indonesia', 'Iran', 'Ireland', 'Israel', 'Italy',\n",
       "       'Jamaica', 'Japan', 'Kazakhstan', 'Libyan Arab Jamahiriya', 'Lithuania',\n",
       "       'Luxembourg', 'Malaysia', 'Malta', 'Mexico', 'Monaco', 'Morocco',\n",
       "       'Netherlands', 'New Zealand', 'Nigeria', 'Norway', 'Pakistan', 'Panama',\n",
       "       'Peru', 'Philippines', 'Poland', 'Portugal', 'Romania', 'Russia',\n",
       "       'Serbia', 'Serbia and Montenegro', 'Singapore', 'Slovenia',\n",
       "       'South Africa', 'South Korea', 'Spain', 'Sweden', 'Switzerland',\n",
       "       'Taiwan', 'Thailand', 'Tunisia', 'Turkey', 'Ukraine',\n",
       "       'United Arab Emirates', 'United Kingdom', 'United States of America'],\n",
       "      dtype='object')"
      ]
     },
     "execution_count": 20,
     "metadata": {},
     "output_type": "execute_result"
    }
   ],
   "source": [
    "countries_dummies.columns"
   ]
  },
  {
   "cell_type": "code",
   "execution_count": 21,
   "id": "1530cdd2",
   "metadata": {},
   "outputs": [
    {
     "data": {
      "text/plain": [
       "Index(['Afrikaans', 'Bahasa indonesia', 'Bosanski', 'Català', 'Cymraeg',\n",
       "       'Dansk', 'Deutsch', 'Eesti', 'English', 'Español', 'Esperanto',\n",
       "       'Français', 'Gaeilge', 'Galego', 'Hrvatski', 'Italiano', 'Kiswahili',\n",
       "       'Latin', 'Magyar', 'Nederlands', 'No Language', 'Norsk', 'Polski',\n",
       "       'Português', 'Pусский', 'Română', 'Slovenčina', 'Somali', 'Srpski',\n",
       "       'Tiếng Việt', 'Türkçe', 'Wolof', ']', 'isiZulu', 'shqip', 'suomi',\n",
       "       'svenska', 'Íslenska', 'Český', 'ελληνικά', 'Український',\n",
       "       'български език', 'қазақ', 'עִבְרִית', 'اردو', 'العربية', 'فارسی',\n",
       "       'हिन्दी', 'বাংলা', 'ਪੰਜਾਬੀ', 'தமிழ்', 'ภาษาไทย', 'ქართული', '广州话 / 廣州話',\n",
       "       '日本語', '普通话', '한국어/조선말'],\n",
       "      dtype='object')"
      ]
     },
     "execution_count": 21,
     "metadata": {},
     "output_type": "execute_result"
    }
   ],
   "source": [
    "language_dummies.columns"
   ]
  },
  {
   "cell_type": "code",
   "execution_count": 22,
   "id": "ba43219a",
   "metadata": {},
   "outputs": [
    {
     "data": {
      "text/plain": [
       "Index(['movie', 'views', 'likes', 'dislikes', 'comments', 'budget', 'runtime',\n",
       "       'keyword', 'year', 'month',\n",
       "       ...\n",
       "       'Sweden', 'Switzerland', 'Taiwan', 'Thailand', 'Tunisia', 'Turkey',\n",
       "       'Ukraine', 'United Arab Emirates', 'United Kingdom',\n",
       "       'United States of America'],\n",
       "      dtype='object', length=166)"
      ]
     },
     "execution_count": 22,
     "metadata": {},
     "output_type": "execute_result"
    }
   ],
   "source": [
    "movies.columns"
   ]
  },
  {
   "cell_type": "markdown",
   "id": "3440071c",
   "metadata": {},
   "source": [
    "### Lastly, Temporarily Removing Keywords\n",
    "\n",
    "Too many columns to one-hot encode for keywords so simply removing it from model."
   ]
  },
  {
   "cell_type": "code",
   "execution_count": 23,
   "id": "8c464b07",
   "metadata": {},
   "outputs": [
    {
     "data": {
      "text/plain": [
       "Index([' boarding school\", ', ' life\", ', ' man\", ', ' movement\", ',\n",
       "       ' quarter\", ', ' school\", ', ' war\", ', ', ', ', \"children',\n",
       "       ', \"leaving one',\n",
       "       ...\n",
       "       'zombie', 'zombie apocalypse', 'zombification', 'zoo', 'zookeeper',\n",
       "       'zurich', 'Γη', '卧底肥妈', '绝地奶霸', '超级妈妈'],\n",
       "      dtype='object', length=8954)"
      ]
     },
     "execution_count": 23,
     "metadata": {},
     "output_type": "execute_result"
    }
   ],
   "source": [
    "keyword_dummies = pd.get_dummies(movies['keyword'].apply(pd.Series).stack()).sum(level=0)\n",
    "keyword_dummies.columns"
   ]
  },
  {
   "cell_type": "code",
   "execution_count": 24,
   "id": "0ea0b9c7",
   "metadata": {},
   "outputs": [],
   "source": [
    "movies = movies.drop(['keyword'], axis=1)"
   ]
  },
  {
   "cell_type": "code",
   "execution_count": 25,
   "id": "3b1e3252",
   "metadata": {},
   "outputs": [
    {
     "name": "stdout",
     "output_type": "stream",
     "text": [
      "(3841, 165)\n"
     ]
    },
    {
     "data": {
      "text/plain": [
       "Index(['movie', 'views', 'likes', 'dislikes', 'comments', 'budget', 'runtime',\n",
       "       'year', 'month', 'homepage_binary',\n",
       "       ...\n",
       "       'Sweden', 'Switzerland', 'Taiwan', 'Thailand', 'Tunisia', 'Turkey',\n",
       "       'Ukraine', 'United Arab Emirates', 'United Kingdom',\n",
       "       'United States of America'],\n",
       "      dtype='object', length=165)"
      ]
     },
     "execution_count": 25,
     "metadata": {},
     "output_type": "execute_result"
    }
   ],
   "source": [
    "print(movies.shape)\n",
    "movies.columns"
   ]
  },
  {
   "cell_type": "code",
   "execution_count": 26,
   "id": "143e5bd6",
   "metadata": {},
   "outputs": [
    {
     "data": {
      "text/plain": [
       "Index(['views', 'likes', 'dislikes', 'comments', 'budget', 'runtime', 'year',\n",
       "       'month', 'homepage_binary', 'budget_mln',\n",
       "       ...\n",
       "       'Sweden', 'Switzerland', 'Taiwan', 'Thailand', 'Tunisia', 'Turkey',\n",
       "       'Ukraine', 'United Arab Emirates', 'United Kingdom',\n",
       "       'United States of America'],\n",
       "      dtype='object', length=164)"
      ]
     },
     "execution_count": 26,
     "metadata": {},
     "output_type": "execute_result"
    }
   ],
   "source": [
    "movies = movies.drop(['movie'], axis=1)\n",
    "movies.columns"
   ]
  },
  {
   "cell_type": "markdown",
   "id": "0a46d28f",
   "metadata": {},
   "source": [
    "## Final Dataframe for Modeling"
   ]
  },
  {
   "cell_type": "code",
   "execution_count": 27,
   "id": "c353d4b0",
   "metadata": {
    "scrolled": true
   },
   "outputs": [
    {
     "name": "stdout",
     "output_type": "stream",
     "text": [
      "Training Data: (2881, 164)\n",
      "Training Data Rating Labels: (2881,)\n",
      "Training Data Popularity Labels: (2881,)\n",
      "Training Data Movie Labels: (2881,)\n",
      "\n",
      "Validation Data: (576, 164)\n",
      "Validation Data Rating Labels: (576,)\n",
      "Validation Data Popularity Labels: (576,)\n",
      "Validation Data Movie Labels: (576,)\n",
      "\n",
      "Testing Data: (384, 164)\n",
      "Testing Data Rating Labels: (1346,)\n",
      "Testing Data Popularity Labels: (1346,)\n",
      "Testing Data Movie Labels: (1346,)\n"
     ]
    }
   ],
   "source": [
    "# Need 25 - 30% of Data for Testing\n",
    "\n",
    "train_ratio = 0.75\n",
    "validation_ratio = 0.15\n",
    "#test_ratio = 0.10\n",
    "\n",
    "# Training Data\n",
    "train_data = movies[:round(movies.shape[0] * train_ratio)]\n",
    "train_rating_labels =  ratings_labels[:round(movies.shape[0] * train_ratio)]\n",
    "train_popularity_labels = popularity_labels[:round(movies.shape[0] * train_ratio)]\n",
    "train_movie_labels = movie_label[:round(movies.shape[0] * train_ratio)]\n",
    "\n",
    "# Validation Data\n",
    "end_index = round(movies.shape[0] * train_ratio) + round(movies.shape[0] * validation_ratio)\n",
    "val_data = movies[round(movies.shape[0] * train_ratio):end_index]\n",
    "val_rating_labels =  ratings_labels[round(movies.shape[0] * train_ratio):end_index]\n",
    "val_popularity_labels = popularity_labels[round(movies.shape[0] * train_ratio):end_index]\n",
    "val_movie_labels = movie_label[round(movies.shape[0] * train_ratio):end_index]\n",
    "\n",
    "# Testing Data\n",
    "test_data = movies[end_index:]\n",
    "test_rating_labels =  ratings_labels[end_index:]\n",
    "test_popularity_labels = popularity_labels[end_index:]\n",
    "test_movie_labels = movie_label[end_index:]\n",
    "\n",
    "print('Training Data:', train_data.shape)\n",
    "print('Training Data Rating Labels:', train_rating_labels.shape)\n",
    "print('Training Data Popularity Labels:', train_popularity_labels.shape)\n",
    "print('Training Data Movie Labels:', train_movie_labels.shape)\n",
    "print()\n",
    "\n",
    "print('Validation Data:', val_data.shape)\n",
    "print('Validation Data Rating Labels:', val_rating_labels.shape)\n",
    "print('Validation Data Popularity Labels:', val_popularity_labels.shape)\n",
    "print('Validation Data Movie Labels:', val_movie_labels.shape)\n",
    "print()\n",
    "\n",
    "print('Testing Data:', test_data.shape)\n",
    "print('Testing Data Rating Labels:', test_rating_labels.shape)\n",
    "print('Testing Data Popularity Labels:', test_popularity_labels.shape)\n",
    "print('Testing Data Movie Labels:', test_movie_labels.shape)"
   ]
  },
  {
   "cell_type": "markdown",
   "id": "444a9941",
   "metadata": {},
   "source": [
    "## PCA"
   ]
  },
  {
   "cell_type": "code",
   "execution_count": 28,
   "id": "2dd570f0",
   "metadata": {},
   "outputs": [
    {
     "name": "stdout",
     "output_type": "stream",
     "text": [
      "Percentage of variance explained by each of the first k components:\n",
      "k = 1: 0.92\n",
      "k = 2: 1.0\n",
      "k = 3: 1.0\n",
      "k = 4: 1.0\n",
      "k = 5: 1.0\n",
      "k = 10: 1.0\n",
      "k = 20: 1.0\n",
      "k = 30: 1.0\n",
      "k = 40: 1.0\n",
      "k = 50: 1.0\n"
     ]
    },
    {
     "data": {
      "image/png": "[encoded data removed]",
      "text/plain": [
       "<Figure size 432x288 with 1 Axes>"
      ]
     },
     "metadata": {
      "needs_background": "light"
     },
     "output_type": "display_data"
    }
   ],
   "source": [
    "def P1():\n",
    "    \n",
    "    k = [1, 2, 3, 4, 5, 10, 20, 30, 40, 50]\n",
    "    pca = PCA(n_components=k[-1])\n",
    "    pca.fit(test_data.fillna(0))\n",
    "    explained_variance = np.cumsum(pca.explained_variance_ratio_)\n",
    "    \n",
    "    print(\"Percentage of variance explained by each of the first k components:\")\n",
    "    for i, k in enumerate(k):\n",
    "        print(f'k = {k}: {round(explained_variance[k-1], 2)}')\n",
    "        \n",
    "    plt.plot(np.arange(1,51), explained_variance)\n",
    "    plt.ylabel('Explained variance ratio') \n",
    "    plt.xlabel('Number of components')\n",
    "    plt.title('Number of components vs. explained variance')  \n",
    "    plt.show() \n",
    "\n",
    "P1()"
   ]
  },
  {
   "cell_type": "markdown",
   "id": "ba34fa9e",
   "metadata": {},
   "source": [
    "## Regression Models"
   ]
  },
  {
   "cell_type": "code",
   "execution_count": 29,
   "id": "b6955f55",
   "metadata": {},
   "outputs": [
    {
     "data": {
      "text/plain": [
       "views                       False\n",
       "likes                       False\n",
       "dislikes                    False\n",
       "comments                    False\n",
       "budget                      False\n",
       "                            ...  \n",
       "Turkey                       True\n",
       "Ukraine                      True\n",
       "United Arab Emirates         True\n",
       "United Kingdom               True\n",
       "United States of America     True\n",
       "Length: 164, dtype: bool"
      ]
     },
     "execution_count": 29,
     "metadata": {},
     "output_type": "execute_result"
    }
   ],
   "source": [
    "train_data.isna().any()"
   ]
  },
  {
   "cell_type": "code",
   "execution_count": 30,
   "id": "186248f4",
   "metadata": {},
   "outputs": [],
   "source": [
    "train_data = train_data.fillna(0)\n",
    "val_data = val_data.fillna(0)\n",
    "test_data = test_data.fillna(0)"
   ]
  },
  {
   "cell_type": "markdown",
   "id": "37344dd6",
   "metadata": {},
   "source": [
    "### Linear Regression"
   ]
  },
  {
   "cell_type": "code",
   "execution_count": 31,
   "id": "63fbc252",
   "metadata": {},
   "outputs": [
    {
     "name": "stdout",
     "output_type": "stream",
     "text": [
      "Linear Regression Ratings Accuracy:  -0.08237022717990139\n",
      "Linear Regression Ratings Mean Squared Error:  0.9194869423564762\n",
      "Linear Regression Ratings Mean Absolute Error:  0.757655371531562\n",
      "\n",
      "Linear Regression Popularity Accuracy:  -0.15877354867409044\n",
      "Linear Regression Popularity Mean Squared Error:  308.63515593720064\n",
      "Linear Regression Popularity Mean Absolute Error:  11.685471250093856\n"
     ]
    }
   ],
   "source": [
    "from sklearn.linear_model import LinearRegression\n",
    "from sklearn.metrics import mean_squared_error\n",
    "from sklearn.metrics import mean_absolute_error\n",
    "\n",
    "# Fitting Linear Model for Rating\n",
    "linear_model = LinearRegression().fit(train_data, train_rating_labels)\n",
    "dev_predicted_rating_labels = linear_model.predict(val_data)\n",
    "accuracy = linear_model.score(val_data, val_rating_labels)\n",
    "print('Linear Regression Ratings Accuracy: ', accuracy)\n",
    "\n",
    "# Collecting Other Metrics for Ratings\n",
    "mse_ratings = mean_squared_error(val_rating_labels, dev_predicted_rating_labels)\n",
    "mae_ratings = mean_absolute_error(val_rating_labels, dev_predicted_rating_labels)\n",
    "print('Linear Regression Ratings Mean Squared Error: ', mse_ratings)\n",
    "print('Linear Regression Ratings Mean Absolute Error: ', mae_ratings)\n",
    "print()\n",
    "\n",
    "# Fitting Linear Model for Popularity\n",
    "linear_model = LinearRegression().fit(train_data, train_popularity_labels)\n",
    "dev_predicted_popularity_labels = linear_model.predict(val_data)\n",
    "accuracy = linear_model.score(val_data, val_popularity_labels)\n",
    "print('Linear Regression Popularity Accuracy: ', accuracy)\n",
    "\n",
    "# Collecting Other Metrics for Popularity\n",
    "mse_popularity = mean_squared_error(val_popularity_labels, dev_predicted_popularity_labels)\n",
    "mae_popularity = mean_absolute_error(val_popularity_labels, dev_predicted_popularity_labels)\n",
    "print('Linear Regression Popularity Mean Squared Error: ', mse_popularity)\n",
    "print('Linear Regression Popularity Mean Absolute Error: ', mae_popularity)"
   ]
  },
  {
   "cell_type": "markdown",
   "id": "928d32da",
   "metadata": {},
   "source": [
    "### Random Forest Regression"
   ]
  },
  {
   "cell_type": "code",
   "execution_count": 32,
   "id": "60c57606",
   "metadata": {},
   "outputs": [
    {
     "name": "stdout",
     "output_type": "stream",
     "text": [
      "Random Forest Regressor Popularity Accuracy:  -0.05410874218190731\n",
      "Random Forest Regressor Ratings Mean Squared Error:  0.8954784600694445\n",
      "Random Forest Regressor Ratings Mean Absolute Error:  0.742671875\n",
      "\n",
      "Randrom Forest Regressor Popularity Accuracy:  -0.24283732481298093\n",
      "Random Forest Regressor Popularity Mean Squared Error:  331.0252395622399\n",
      "Random Forest Regressor Popularity Mean Absolute Error:  13.773902479270832\n"
     ]
    }
   ],
   "source": [
    "# Random forest Regression\n",
    "from sklearn.ensemble import RandomForestRegressor\n",
    "from sklearn.metrics import mean_squared_error\n",
    "from sklearn.metrics import mean_absolute_error\n",
    "\n",
    "# Fitting Random Forest Regressor for Ratings\n",
    "rand_forest_model = RandomForestRegressor().fit(train_data, train_rating_labels)\n",
    "dev_predicted_labels = rand_forest_model.predict(val_data)\n",
    "accuracy = rand_forest_model.score(val_data, val_rating_labels)\n",
    "print('Random Forest Regressor Popularity Accuracy: ', accuracy)\n",
    "\n",
    "# Collecting Other Metrics for Ratings\n",
    "mse_ratings = mean_squared_error(val_rating_labels, dev_predicted_labels)\n",
    "mae_ratings = mean_absolute_error(val_rating_labels, dev_predicted_labels)\n",
    "print('Random Forest Regressor Ratings Mean Squared Error: ', mse_ratings)\n",
    "print('Random Forest Regressor Ratings Mean Absolute Error: ', mae_ratings)\n",
    "print()\n",
    "\n",
    "# Fitting Random Forest Regressor for Popularity\n",
    "rand_forest_model = RandomForestRegressor().fit(train_data, train_popularity_labels)\n",
    "dev_predicted_labels = rand_forest_model.predict(val_data)\n",
    "accuracy = rand_forest_model.score(val_data, val_popularity_labels)\n",
    "print('Randrom Forest Regressor Popularity Accuracy: ', accuracy)\n",
    "\n",
    "# Collecting Other Metrics for Popularity\n",
    "mse_popularity = mean_squared_error(val_popularity_labels, dev_predicted_labels)\n",
    "mae_popularity = mean_absolute_error(val_popularity_labels, dev_predicted_labels)\n",
    "print('Random Forest Regressor Popularity Mean Squared Error: ', mse_popularity)\n",
    "print('Random Forest Regressor Popularity Mean Absolute Error: ', mae_popularity)"
   ]
  },
  {
   "cell_type": "markdown",
   "id": "dbfdddd4",
   "metadata": {},
   "source": [
    "### Stochastic Gradient Descent Regression"
   ]
  },
  {
   "cell_type": "code",
   "execution_count": 33,
   "id": "6e4af67b",
   "metadata": {},
   "outputs": [
    {
     "name": "stdout",
     "output_type": "stream",
     "text": [
      "Stochastic Gradient Descent Regression Accuracy:  -1.9110561869820242e+46\n",
      "Stochastic Gradient Descent Regression  Mean Squared Error:  1.623465950849241e+46\n",
      "Stochastic Gradient Descent Regression  Mean Absolute Error:  6.322127256729647e+22\n",
      "\n",
      "Stochastic Gradient Descent Regression Accuracy:  -1.5379670215987822e+45\n",
      "Random Forest Regressor Popularity Mean Squared Error:  4.0963197000876235e+47\n",
      "Random Forest Regressor Popularity Mean Absolute Error:  4.720176310007103e+23\n"
     ]
    }
   ],
   "source": [
    "# Stochastic Gradient Descent Regression\n",
    "from sklearn.linear_model import SGDRegressor\n",
    "from sklearn.metrics import mean_squared_error\n",
    "from sklearn.metrics import mean_absolute_error\n",
    "\n",
    "# Fitting Stochastic Gradient Descent Regression for Ratings\n",
    "sgd_model = SGDRegressor().fit(train_data, train_rating_labels)\n",
    "dev_predicted_labels = sgd_model.predict(val_data)\n",
    "accuracy = sgd_model.score(val_data, val_rating_labels)\n",
    "print('Stochastic Gradient Descent Regression Accuracy: ', accuracy)\n",
    "\n",
    "# Collecting Other Metrics for Ratings\n",
    "mse_ratings = mean_squared_error(val_rating_labels, dev_predicted_labels)\n",
    "mae_ratings = mean_absolute_error(val_rating_labels, dev_predicted_labels)\n",
    "print('Stochastic Gradient Descent Regression  Mean Squared Error: ', mse_ratings)\n",
    "print('Stochastic Gradient Descent Regression  Mean Absolute Error: ', mae_ratings)\n",
    "print()\n",
    "\n",
    "# Fitting Stochastic Gradient Descent Regression for Popularity\n",
    "sgd_model = SGDRegressor().fit(train_data, train_popularity_labels)\n",
    "dev_predicted_labels = sgd_model.predict(val_data)\n",
    "accuracy = sgd_model.score(val_data, val_popularity_labels)\n",
    "print('Stochastic Gradient Descent Regression Accuracy: ', accuracy)\n",
    "\n",
    "# Collecting Other Metrics for Popularity\n",
    "mse_popularity = mean_squared_error(val_popularity_labels, dev_predicted_labels)\n",
    "mae_popularity = mean_absolute_error(val_popularity_labels, dev_predicted_labels)\n",
    "print('Random Forest Regressor Popularity Mean Squared Error: ', mse_popularity)\n",
    "print('Random Forest Regressor Popularity Mean Absolute Error: ', mae_popularity)"
   ]
  },
  {
   "cell_type": "code",
   "execution_count": null,
   "id": "eabf3915",
   "metadata": {},
   "outputs": [],
   "source": []
  },
  {
   "cell_type": "code",
   "execution_count": null,
   "id": "34d77130",
   "metadata": {},
   "outputs": [],
   "source": []
  },
  {
   "cell_type": "code",
   "execution_count": null,
   "id": "d4c9df78",
   "metadata": {},
   "outputs": [],
   "source": []
  },
  {
   "cell_type": "code",
   "execution_count": null,
   "id": "1a9f054c",
   "metadata": {},
   "outputs": [],
   "source": []
  },
  {
   "cell_type": "code",
   "execution_count": null,
   "id": "b0770c6f",
   "metadata": {},
   "outputs": [],
   "source": []
  },
  {
   "cell_type": "code",
   "execution_count": null,
   "id": "d00bb7af",
   "metadata": {},
   "outputs": [],
   "source": []
  }
 ],
 "metadata": {
  "kernelspec": {
   "display_name": "Python 3",
   "language": "python",
   "name": "python3"
  },
  "language_info": {
   "codemirror_mode": {
    "name": "ipython",
    "version": 3
   },
   "file_extension": ".py",
   "mimetype": "text/x-python",
   "name": "python",
   "nbconvert_exporter": "python",
   "pygments_lexer": "ipython3",
   "version": "3.8.8"
  }
 },
 "nbformat": 4,
 "nbformat_minor": 5
}
